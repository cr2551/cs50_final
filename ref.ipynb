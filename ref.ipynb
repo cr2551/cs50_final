{
 "cells": [
  {
   "cell_type": "code",
   "execution_count": 39,
   "metadata": {},
   "outputs": [],
   "source": [
    "class Node:\n",
    "    def __init__(self, data, next=None):\n",
    "        self.data = data\n",
    "        self.next = next\n",
    "\n",
    "    def enqueue(self, node):\n",
    "        n = self\n",
    "        while n.next != None:\n",
    "            n = n.next\n",
    "        n.next = node\n",
    "    \n",
    "    def __iter__(self):\n",
    "        n = self\n",
    "        while n is not None:\n",
    "            yield n\n",
    "            n = n.next\n",
    "            \n",
    "    \n",
    "    def __str__(self):\n",
    "        n = self\n",
    "        nodes = []\n",
    "        while True:\n",
    "            nodes.append(str(n.data))\n",
    "            n = n.next\n",
    "            if n == None:\n",
    "                break\n",
    "        return '->'.join(nodes)\n",
    "\n",
    "\n",
    "\n",
    "mynode = Node(1)\n",
    "mynode.enqueue(Node(3))"
   ]
  },
  {
   "cell_type": "code",
   "execution_count": 40,
   "metadata": {},
   "outputs": [
    {
     "name": "stdout",
     "output_type": "stream",
     "text": [
      "1->3->4->5->6->7->8->9\n"
     ]
    }
   ],
   "source": [
    "for i in range(4,10):\n",
    "    new = Node(i)\n",
    "    mynode.enqueue(new)\n",
    "print(mynode)"
   ]
  },
  {
   "cell_type": "code",
   "execution_count": 43,
   "metadata": {},
   "outputs": [
    {
     "name": "stdout",
     "output_type": "stream",
     "text": [
      "1->3->4->5->6->7->8->9\n",
      "3->4->5->6->7->8->9\n",
      "4->5->6->7->8->9\n",
      "5->6->7->8->9\n",
      "6->7->8->9\n",
      "7->8->9\n",
      "8->9\n",
      "9\n"
     ]
    }
   ],
   "source": [
    "for node in mynode:\n",
    "    print(node)"
   ]
  },
  {
   "cell_type": "code",
   "execution_count": 44,
   "metadata": {},
   "outputs": [
    {
     "ename": "TypeError",
     "evalue": "'Node' object is not subscriptable",
     "output_type": "error",
     "traceback": [
      "\u001b[0;31m---------------------------------------------------------------------------\u001b[0m",
      "\u001b[0;31mTypeError\u001b[0m                                 Traceback (most recent call last)",
      "\u001b[1;32m/home/crod/scripts/cs50/flask/project/ref.ipynb Cell 4\u001b[0m line \u001b[0;36m1\n\u001b[0;32m----> <a href='vscode-notebook-cell:/home/crod/scripts/cs50/flask/project/ref.ipynb#W6sZmlsZQ%3D%3D?line=0'>1</a>\u001b[0m mynode[\u001b[39m0\u001b[39;49m]\n",
      "\u001b[0;31mTypeError\u001b[0m: 'Node' object is not subscriptable"
     ]
    }
   ],
   "source": [
    "mynode[0]"
   ]
  }
 ],
 "metadata": {
  "kernelspec": {
   "display_name": ".venv",
   "language": "python",
   "name": "python3"
  },
  "language_info": {
   "codemirror_mode": {
    "name": "ipython",
    "version": 3
   },
   "file_extension": ".py",
   "mimetype": "text/x-python",
   "name": "python",
   "nbconvert_exporter": "python",
   "pygments_lexer": "ipython3",
   "version": "3.10.12"
  }
 },
 "nbformat": 4,
 "nbformat_minor": 2
}
